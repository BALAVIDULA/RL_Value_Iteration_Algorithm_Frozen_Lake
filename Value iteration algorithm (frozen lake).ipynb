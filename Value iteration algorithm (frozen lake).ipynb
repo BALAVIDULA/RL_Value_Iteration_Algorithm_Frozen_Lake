{
  "nbformat": 4,
  "nbformat_minor": 0,
  "metadata": {
    "colab": {
      "provenance": []
    },
    "kernelspec": {
      "name": "python3",
      "display_name": "Python 3"
    },
    "language_info": {
      "name": "python"
    }
  },
  "cells": [
    {
      "cell_type": "code",
      "source": [
        "!pip install tools"
      ],
      "metadata": {
        "colab": {
          "base_uri": "https://localhost:8080/"
        },
        "id": "VT3-qmqNZ0gu",
        "outputId": "89970a62-f071-431a-f960-9d871d4ed48b"
      },
      "execution_count": 19,
      "outputs": [
        {
          "output_type": "stream",
          "name": "stdout",
          "text": [
            "Requirement already satisfied: tools in /usr/local/lib/python3.10/dist-packages (0.1.9)\n",
            "Requirement already satisfied: pytils in /usr/local/lib/python3.10/dist-packages (from tools) (0.4.1)\n",
            "Requirement already satisfied: six in /usr/local/lib/python3.10/dist-packages (from tools) (1.16.0)\n",
            "Requirement already satisfied: lxml in /usr/local/lib/python3.10/dist-packages (from tools) (4.9.3)\n"
          ]
        }
      ]
    },
    {
      "cell_type": "code",
      "execution_count": 20,
      "metadata": {
        "colab": {
          "base_uri": "https://localhost:8080/"
        },
        "id": "RpM6-luNXxAf",
        "outputId": "a9412f94-1a5e-40cc-e0c1-872b61f5303b"
      },
      "outputs": [
        {
          "output_type": "stream",
          "name": "stderr",
          "text": [
            "/usr/local/lib/python3.10/dist-packages/gym/core.py:317: DeprecationWarning: \u001b[33mWARN: Initializing wrapper in old step API which returns one bool instead of two. It is recommended to set `new_step_api=True` to use new step API. This will be the default behaviour in future.\u001b[0m\n",
            "  deprecation(\n",
            "/usr/local/lib/python3.10/dist-packages/gym/wrappers/step_api_compatibility.py:39: DeprecationWarning: \u001b[33mWARN: Initializing environment in old step API which returns one bool instead of two. It is recommended to set `new_step_api=True` to use new step API. This will be the default behaviour in future.\u001b[0m\n",
            "  deprecation(\n"
          ]
        }
      ],
      "source": [
        "import numpy as np\n",
        "import tools\n",
        "import gym\n",
        "env=gym.make('FrozenLake8x8-v1')"
      ]
    },
    {
      "cell_type": "code",
      "source": [
        "env.action_space"
      ],
      "metadata": {
        "colab": {
          "base_uri": "https://localhost:8080/"
        },
        "id": "OTeNGDkYYJNX",
        "outputId": "307e0cd3-ad62-44fb-bb48-1b946d389316"
      },
      "execution_count": 21,
      "outputs": [
        {
          "output_type": "execute_result",
          "data": {
            "text/plain": [
              "Discrete(4)"
            ]
          },
          "metadata": {},
          "execution_count": 21
        }
      ]
    },
    {
      "cell_type": "code",
      "source": [
        "env.action_space.n"
      ],
      "metadata": {
        "colab": {
          "base_uri": "https://localhost:8080/"
        },
        "id": "amrCHDyWYJQI",
        "outputId": "53026ef6-ec66-49a9-d6c7-0155f3abce83"
      },
      "execution_count": 22,
      "outputs": [
        {
          "output_type": "execute_result",
          "data": {
            "text/plain": [
              "4"
            ]
          },
          "metadata": {},
          "execution_count": 22
        }
      ]
    },
    {
      "cell_type": "code",
      "source": [
        "env.observation_space"
      ],
      "metadata": {
        "colab": {
          "base_uri": "https://localhost:8080/"
        },
        "id": "yb6nhd4MYJSx",
        "outputId": "c99468bd-7064-46c1-b0bd-1fd7e4b04b5e"
      },
      "execution_count": 23,
      "outputs": [
        {
          "output_type": "execute_result",
          "data": {
            "text/plain": [
              "Discrete(64)"
            ]
          },
          "metadata": {},
          "execution_count": 23
        }
      ]
    },
    {
      "cell_type": "code",
      "source": [
        "env.observation_space.n"
      ],
      "metadata": {
        "colab": {
          "base_uri": "https://localhost:8080/"
        },
        "id": "TOnaglFhYJVn",
        "outputId": "f479eccd-f678-439b-b1f4-ebaf4fd92159"
      },
      "execution_count": 24,
      "outputs": [
        {
          "output_type": "execute_result",
          "data": {
            "text/plain": [
              "64"
            ]
          },
          "metadata": {},
          "execution_count": 24
        }
      ]
    },
    {
      "cell_type": "code",
      "source": [
        "env.env.P[0][1]"
      ],
      "metadata": {
        "colab": {
          "base_uri": "https://localhost:8080/"
        },
        "id": "PEs2ZjfeYJZJ",
        "outputId": "f7b4a0c6-c8b3-46f8-a459-591a338d749e"
      },
      "execution_count": 25,
      "outputs": [
        {
          "output_type": "execute_result",
          "data": {
            "text/plain": [
              "[(0.3333333333333333, 0, 0.0, False),\n",
              " (0.3333333333333333, 8, 0.0, False),\n",
              " (0.3333333333333333, 1, 0.0, False)]"
            ]
          },
          "metadata": {},
          "execution_count": 25
        }
      ]
    },
    {
      "cell_type": "code",
      "source": [
        "env.env.P[1][1]"
      ],
      "metadata": {
        "colab": {
          "base_uri": "https://localhost:8080/"
        },
        "id": "VQx4WwwAYNiF",
        "outputId": "dfa2dfc2-452b-4917-f081-b6d6d199af77"
      },
      "execution_count": 26,
      "outputs": [
        {
          "output_type": "execute_result",
          "data": {
            "text/plain": [
              "[(0.3333333333333333, 0, 0.0, False),\n",
              " (0.3333333333333333, 9, 0.0, False),\n",
              " (0.3333333333333333, 2, 0.0, False)]"
            ]
          },
          "metadata": {},
          "execution_count": 26
        }
      ]
    },
    {
      "cell_type": "code",
      "source": [
        "def argmax(env,V,pi,action,s,gamma):\n",
        "    e=np.zeros(env.action_space.n)\n",
        "    for a in range(env.action_space.n):\n",
        "        q=0\n",
        "        P=np.array(env.env.P[s][a])\n",
        "        (x,y)=np.shape(P)\n",
        "        for i in range(x):\n",
        "            s_=int(P[i][1])\n",
        "            p=P[i][0]\n",
        "            r=P[i][2]\n",
        "            q+=p*(r+gamma*V[s_])\n",
        "            e[a]=q\n",
        "    m=np.argmax(e)\n",
        "    action[s]=m\n",
        "    pi[s][m]=1\n",
        "    return pi"
      ],
      "metadata": {
        "id": "7KAz8UplYNlR"
      },
      "execution_count": 27,
      "outputs": []
    },
    {
      "cell_type": "code",
      "source": [
        "def bellman_optimality_update(env,V,s,gamma):\n",
        "    pi=np.zeros((env.observation_space.n,env.action_space.n))\n",
        "    e=np.zeros(env.action_space.n)\n",
        "    for a in range(env.action_space.n):\n",
        "        q=0\n",
        "        P=np.array(env.env.P[s][a])\n",
        "        (x,y)=np.shape(P)\n",
        "        for i in range(x):\n",
        "            s_=int(P[i][1])\n",
        "            p=P[i][0]\n",
        "            r=P[i][2]\n",
        "            q+=p*(r+gamma*V[s_])\n",
        "            e[a]=q\n",
        "    m=np.argmax(e)\n",
        "    pi[s][m]=1\n",
        "    value=0\n",
        "    for a in range(env.action_space.n):\n",
        "        u = 0\n",
        "        P = np.array(env.env.P[s][a])\n",
        "        (x,y) = np.shape(P)\n",
        "        for i in range(x):\n",
        "\n",
        "            s_= int(P[i][1])\n",
        "            p = P[i][0]\n",
        "            r = P[i][2]\n",
        "\n",
        "            u += p*(r+gamma*V[s_])\n",
        "\n",
        "        value += pi[s,a] * u\n",
        "\n",
        "    V[s]=value\n",
        "    return V[s]"
      ],
      "metadata": {
        "id": "YYoxYbt0YNoX"
      },
      "execution_count": 28,
      "outputs": []
    },
    {
      "cell_type": "code",
      "source": [
        "def value_iteration(env,gamma,theta):\n",
        "    V=np.zeros(env.observation_space.n)\n",
        "    while True:\n",
        "        delta=0\n",
        "        for s in range(env.observation_space.n):\n",
        "            v=V[s]\n",
        "            bellman_optimality_update(env,V,s,gamma)\n",
        "            delta=max(delta,abs(v-V[s]))\n",
        "        if delta<theta:\n",
        "            break\n",
        "    pi=np.zeros((env.observation_space.n,env.action_space.n))\n",
        "    action = np.zeros((env.observation_space.n))\n",
        "    for s in range(env.observation_space.n):\n",
        "        pi = argmax(env, V, pi,action, s, gamma)         # extract optimal policy using action value\n",
        "\n",
        "    return V, pi,action                                          # optimal value funtion, optimal policy\n"
      ],
      "metadata": {
        "id": "2ODsNfzQYNrk"
      },
      "execution_count": 29,
      "outputs": []
    },
    {
      "cell_type": "code",
      "source": [
        "gamma=0.99\n",
        "theta=0.0001\n",
        "V,pi, action=value_iteration(env,gamma,theta)"
      ],
      "metadata": {
        "id": "a3kBrPWKYNuP"
      },
      "execution_count": 30,
      "outputs": []
    },
    {
      "cell_type": "code",
      "source": [
        "V"
      ],
      "metadata": {
        "colab": {
          "base_uri": "https://localhost:8080/"
        },
        "id": "FN6aTg1KYNxp",
        "outputId": "b203f870-6e0e-465f-8f01-47381f73afd7"
      },
      "execution_count": 31,
      "outputs": [
        {
          "output_type": "execute_result",
          "data": {
            "text/plain": [
              "array([0.41380427, 0.42646611, 0.44549747, 0.46775343, 0.49195119,\n",
              "       0.51613512, 0.53484842, 0.54057219, 0.41087036, 0.42046608,\n",
              "       0.43683661, 0.45781294, 0.4827469 , 0.51312584, 0.54539258,\n",
              "       0.55701209, 0.3959509 , 0.39310776, 0.37485136, 0.        ,\n",
              "       0.42127687, 0.49343747, 0.56087922, 0.58554475, 0.36850657,\n",
              "       0.35230245, 0.30599599, 0.20012109, 0.30044703, 0.        ,\n",
              "       0.56872722, 0.62798394, 0.33140018, 0.29058194, 0.19687072,\n",
              "       0.        , 0.28905923, 0.36174158, 0.53457878, 0.68947802,\n",
              "       0.30447888, 0.        , 0.        , 0.08615983, 0.21376735,\n",
              "       0.27256811, 0.        , 0.77188416, 0.28695781, 0.        ,\n",
              "       0.05729349, 0.0473396 , 0.        , 0.25045823, 0.        ,\n",
              "       0.87769228, 0.27832491, 0.19924855, 0.12633303, 0.        ,\n",
              "       0.23956772, 0.48639843, 0.73708127, 0.        ])"
            ]
          },
          "metadata": {},
          "execution_count": 31
        }
      ]
    },
    {
      "cell_type": "code",
      "source": [
        "pi"
      ],
      "metadata": {
        "colab": {
          "base_uri": "https://localhost:8080/"
        },
        "id": "Pk_vFjD3YN3W",
        "outputId": "27b1e2c2-8693-4b47-b85c-48574cb1cf98"
      },
      "execution_count": 32,
      "outputs": [
        {
          "output_type": "execute_result",
          "data": {
            "text/plain": [
              "array([[0., 0., 0., 1.],\n",
              "       [0., 0., 1., 0.],\n",
              "       [0., 0., 1., 0.],\n",
              "       [0., 0., 1., 0.],\n",
              "       [0., 0., 1., 0.],\n",
              "       [0., 0., 1., 0.],\n",
              "       [0., 0., 1., 0.],\n",
              "       [0., 0., 1., 0.],\n",
              "       [0., 0., 0., 1.],\n",
              "       [0., 0., 0., 1.],\n",
              "       [0., 0., 0., 1.],\n",
              "       [0., 0., 0., 1.],\n",
              "       [0., 0., 0., 1.],\n",
              "       [0., 0., 1., 0.],\n",
              "       [0., 0., 1., 0.],\n",
              "       [0., 1., 0., 0.],\n",
              "       [0., 0., 0., 1.],\n",
              "       [0., 0., 0., 1.],\n",
              "       [1., 0., 0., 0.],\n",
              "       [1., 0., 0., 0.],\n",
              "       [0., 0., 1., 0.],\n",
              "       [0., 0., 0., 1.],\n",
              "       [0., 0., 1., 0.],\n",
              "       [0., 1., 0., 0.],\n",
              "       [0., 0., 0., 1.],\n",
              "       [0., 0., 0., 1.],\n",
              "       [0., 0., 0., 1.],\n",
              "       [0., 1., 0., 0.],\n",
              "       [1., 0., 0., 0.],\n",
              "       [1., 0., 0., 0.],\n",
              "       [0., 0., 1., 0.],\n",
              "       [0., 0., 1., 0.],\n",
              "       [1., 0., 0., 0.],\n",
              "       [0., 0., 0., 1.],\n",
              "       [1., 0., 0., 0.],\n",
              "       [1., 0., 0., 0.],\n",
              "       [0., 0., 1., 0.],\n",
              "       [0., 1., 0., 0.],\n",
              "       [0., 0., 0., 1.],\n",
              "       [0., 0., 1., 0.],\n",
              "       [1., 0., 0., 0.],\n",
              "       [1., 0., 0., 0.],\n",
              "       [1., 0., 0., 0.],\n",
              "       [0., 1., 0., 0.],\n",
              "       [0., 0., 0., 1.],\n",
              "       [1., 0., 0., 0.],\n",
              "       [1., 0., 0., 0.],\n",
              "       [0., 0., 1., 0.],\n",
              "       [1., 0., 0., 0.],\n",
              "       [1., 0., 0., 0.],\n",
              "       [0., 1., 0., 0.],\n",
              "       [1., 0., 0., 0.],\n",
              "       [1., 0., 0., 0.],\n",
              "       [1., 0., 0., 0.],\n",
              "       [1., 0., 0., 0.],\n",
              "       [0., 0., 1., 0.],\n",
              "       [1., 0., 0., 0.],\n",
              "       [0., 1., 0., 0.],\n",
              "       [1., 0., 0., 0.],\n",
              "       [1., 0., 0., 0.],\n",
              "       [0., 1., 0., 0.],\n",
              "       [0., 0., 1., 0.],\n",
              "       [0., 1., 0., 0.],\n",
              "       [1., 0., 0., 0.]])"
            ]
          },
          "metadata": {},
          "execution_count": 32
        }
      ]
    },
    {
      "cell_type": "code",
      "source": [
        "a=np.reshape(action,(8,8))\n",
        "print(a)"
      ],
      "metadata": {
        "colab": {
          "base_uri": "https://localhost:8080/"
        },
        "id": "840AooaPYN6t",
        "outputId": "bd60f429-174e-4116-ec31-600d45cc8f13"
      },
      "execution_count": 33,
      "outputs": [
        {
          "output_type": "stream",
          "name": "stdout",
          "text": [
            "[[3. 2. 2. 2. 2. 2. 2. 2.]\n",
            " [3. 3. 3. 3. 3. 2. 2. 1.]\n",
            " [3. 3. 0. 0. 2. 3. 2. 1.]\n",
            " [3. 3. 3. 1. 0. 0. 2. 2.]\n",
            " [0. 3. 0. 0. 2. 1. 3. 2.]\n",
            " [0. 0. 0. 1. 3. 0. 0. 2.]\n",
            " [0. 0. 1. 0. 0. 0. 0. 2.]\n",
            " [0. 1. 0. 0. 1. 2. 1. 0.]]\n"
          ]
        }
      ]
    },
    {
      "cell_type": "code",
      "source": [
        "action=tuple(action)"
      ],
      "metadata": {
        "id": "Vg1ZFiz2ZR7M"
      },
      "execution_count": 34,
      "outputs": []
    },
    {
      "cell_type": "code",
      "source": [
        "action"
      ],
      "metadata": {
        "colab": {
          "base_uri": "https://localhost:8080/"
        },
        "id": "5bSGlEeRZS6N",
        "outputId": "68a1e76b-e51d-4c0c-94e6-4ded59fa1aa8"
      },
      "execution_count": 35,
      "outputs": [
        {
          "output_type": "execute_result",
          "data": {
            "text/plain": [
              "(3.0,\n",
              " 2.0,\n",
              " 2.0,\n",
              " 2.0,\n",
              " 2.0,\n",
              " 2.0,\n",
              " 2.0,\n",
              " 2.0,\n",
              " 3.0,\n",
              " 3.0,\n",
              " 3.0,\n",
              " 3.0,\n",
              " 3.0,\n",
              " 2.0,\n",
              " 2.0,\n",
              " 1.0,\n",
              " 3.0,\n",
              " 3.0,\n",
              " 0.0,\n",
              " 0.0,\n",
              " 2.0,\n",
              " 3.0,\n",
              " 2.0,\n",
              " 1.0,\n",
              " 3.0,\n",
              " 3.0,\n",
              " 3.0,\n",
              " 1.0,\n",
              " 0.0,\n",
              " 0.0,\n",
              " 2.0,\n",
              " 2.0,\n",
              " 0.0,\n",
              " 3.0,\n",
              " 0.0,\n",
              " 0.0,\n",
              " 2.0,\n",
              " 1.0,\n",
              " 3.0,\n",
              " 2.0,\n",
              " 0.0,\n",
              " 0.0,\n",
              " 0.0,\n",
              " 1.0,\n",
              " 3.0,\n",
              " 0.0,\n",
              " 0.0,\n",
              " 2.0,\n",
              " 0.0,\n",
              " 0.0,\n",
              " 1.0,\n",
              " 0.0,\n",
              " 0.0,\n",
              " 0.0,\n",
              " 0.0,\n",
              " 2.0,\n",
              " 0.0,\n",
              " 1.0,\n",
              " 0.0,\n",
              " 0.0,\n",
              " 1.0,\n",
              " 2.0,\n",
              " 1.0,\n",
              " 0.0)"
            ]
          },
          "metadata": {},
          "execution_count": 35
        }
      ]
    },
    {
      "cell_type": "code",
      "source": [
        "done = False\n",
        "state = env.reset()\n",
        "while not done:\n",
        "    # Choose action based on the policy\n",
        "    for i in action:\n",
        "    # Take the action\n",
        "        next_state,reward,done,t= env.step(i)\n",
        "\n",
        "    # Print the observation (state, action, reward, next_state)\n",
        "        print(f\"State: {state}, Action: {i}, Reward: {reward}, Next State: {next_state}\")\n",
        "\n",
        "    # Update the current state for the next iteration\n",
        "        state = next_state\n",
        "\n",
        "# Close the environment\n",
        "env.close()"
      ],
      "metadata": {
        "colab": {
          "base_uri": "https://localhost:8080/"
        },
        "id": "U7SNhcKKZTxR",
        "outputId": "9e2aa316-61fc-40fb-a2a0-d5d18154853e"
      },
      "execution_count": 45,
      "outputs": [
        {
          "output_type": "stream",
          "name": "stdout",
          "text": [
            "State: 0, Action: 3.0, Reward: 0.0, Next State: 1\n",
            "State: 1, Action: 2.0, Reward: 0.0, Next State: 9\n",
            "State: 9, Action: 2.0, Reward: 0.0, Next State: 17\n",
            "State: 17, Action: 2.0, Reward: 0.0, Next State: 18\n",
            "State: 18, Action: 2.0, Reward: 0.0, Next State: 10\n",
            "State: 10, Action: 2.0, Reward: 0.0, Next State: 18\n",
            "State: 18, Action: 2.0, Reward: 0.0, Next State: 19\n",
            "State: 19, Action: 2.0, Reward: 0, Next State: 19\n",
            "State: 19, Action: 3.0, Reward: 0, Next State: 19\n",
            "State: 19, Action: 3.0, Reward: 0, Next State: 19\n",
            "State: 19, Action: 3.0, Reward: 0, Next State: 19\n",
            "State: 19, Action: 3.0, Reward: 0, Next State: 19\n",
            "State: 19, Action: 3.0, Reward: 0, Next State: 19\n",
            "State: 19, Action: 2.0, Reward: 0, Next State: 19\n",
            "State: 19, Action: 2.0, Reward: 0, Next State: 19\n",
            "State: 19, Action: 1.0, Reward: 0, Next State: 19\n",
            "State: 19, Action: 3.0, Reward: 0, Next State: 19\n",
            "State: 19, Action: 3.0, Reward: 0, Next State: 19\n",
            "State: 19, Action: 0.0, Reward: 0, Next State: 19\n",
            "State: 19, Action: 0.0, Reward: 0, Next State: 19\n",
            "State: 19, Action: 2.0, Reward: 0, Next State: 19\n",
            "State: 19, Action: 3.0, Reward: 0, Next State: 19\n",
            "State: 19, Action: 2.0, Reward: 0, Next State: 19\n",
            "State: 19, Action: 1.0, Reward: 0, Next State: 19\n",
            "State: 19, Action: 3.0, Reward: 0, Next State: 19\n",
            "State: 19, Action: 3.0, Reward: 0, Next State: 19\n",
            "State: 19, Action: 3.0, Reward: 0, Next State: 19\n",
            "State: 19, Action: 1.0, Reward: 0, Next State: 19\n",
            "State: 19, Action: 0.0, Reward: 0, Next State: 19\n",
            "State: 19, Action: 0.0, Reward: 0, Next State: 19\n",
            "State: 19, Action: 2.0, Reward: 0, Next State: 19\n",
            "State: 19, Action: 2.0, Reward: 0, Next State: 19\n",
            "State: 19, Action: 0.0, Reward: 0, Next State: 19\n",
            "State: 19, Action: 3.0, Reward: 0, Next State: 19\n",
            "State: 19, Action: 0.0, Reward: 0, Next State: 19\n",
            "State: 19, Action: 0.0, Reward: 0, Next State: 19\n",
            "State: 19, Action: 2.0, Reward: 0, Next State: 19\n",
            "State: 19, Action: 1.0, Reward: 0, Next State: 19\n",
            "State: 19, Action: 3.0, Reward: 0, Next State: 19\n",
            "State: 19, Action: 2.0, Reward: 0, Next State: 19\n",
            "State: 19, Action: 0.0, Reward: 0, Next State: 19\n",
            "State: 19, Action: 0.0, Reward: 0, Next State: 19\n",
            "State: 19, Action: 0.0, Reward: 0, Next State: 19\n",
            "State: 19, Action: 1.0, Reward: 0, Next State: 19\n",
            "State: 19, Action: 3.0, Reward: 0, Next State: 19\n",
            "State: 19, Action: 0.0, Reward: 0, Next State: 19\n",
            "State: 19, Action: 0.0, Reward: 0, Next State: 19\n",
            "State: 19, Action: 2.0, Reward: 0, Next State: 19\n",
            "State: 19, Action: 0.0, Reward: 0, Next State: 19\n",
            "State: 19, Action: 0.0, Reward: 0, Next State: 19\n",
            "State: 19, Action: 1.0, Reward: 0, Next State: 19\n",
            "State: 19, Action: 0.0, Reward: 0, Next State: 19\n",
            "State: 19, Action: 0.0, Reward: 0, Next State: 19\n",
            "State: 19, Action: 0.0, Reward: 0, Next State: 19\n",
            "State: 19, Action: 0.0, Reward: 0, Next State: 19\n",
            "State: 19, Action: 2.0, Reward: 0, Next State: 19\n",
            "State: 19, Action: 0.0, Reward: 0, Next State: 19\n",
            "State: 19, Action: 1.0, Reward: 0, Next State: 19\n",
            "State: 19, Action: 0.0, Reward: 0, Next State: 19\n",
            "State: 19, Action: 0.0, Reward: 0, Next State: 19\n",
            "State: 19, Action: 1.0, Reward: 0, Next State: 19\n",
            "State: 19, Action: 2.0, Reward: 0, Next State: 19\n",
            "State: 19, Action: 1.0, Reward: 0, Next State: 19\n",
            "State: 19, Action: 0.0, Reward: 0, Next State: 19\n"
          ]
        }
      ]
    },
    {
      "cell_type": "code",
      "source": [],
      "metadata": {
        "id": "7GNBjrWqZVw4"
      },
      "execution_count": 36,
      "outputs": []
    }
  ]
}